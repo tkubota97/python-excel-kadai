{
  "nbformat": 4,
  "nbformat_minor": 0,
  "metadata": {
    "colab": {
      "provenance": []
    },
    "kernelspec": {
      "name": "python3",
      "display_name": "Python 3"
    },
    "language_info": {
      "name": "python"
    }
  },
  "cells": [
    {
      "cell_type": "code",
      "execution_count": 41,
      "metadata": {
        "id": "zVo6KxeISzJL"
      },
      "outputs": [],
      "source": [
        "import pandas as pd\n",
        "# データフレームの作成\n",
        "df = pd.DataFrame({\n",
        "    '日付':['2023-05-17', '2023-05-18', '2023-05-19','2023-05-20', '2023-05-21'],\n",
        "    '社員名': ['山田', '佐藤', '鈴木', '田中','高橋'],\n",
        "    '売上': ['100', '200', '150', '300', '250'],\n",
        "    '部門':['メーカー', '代理店', 'メーカー', '商社', '代理店']\n",
        "})\n",
        "# '売上’を数値に変換する\n",
        "df['売上'] = pd.to_numeric(df['売上'])\n",
        "\n",
        "# 売上の平均を求める\n",
        "average_sales = df['売上'].mean()\n",
        "\n",
        "# 平均売上の列を作成する\n",
        "df['平均売上'] = average_sales\n",
        "\n",
        "# 売上を分岐し業績ランクを求める「performance」を定義\n",
        "def performance(sales, average_sales):\n",
        "  result = '';\n",
        "  if sales >= average_sales + 50:\n",
        "    result = 'A';\n",
        "  elif sales >= average_sales:\n",
        "    result = 'B';\n",
        "  else:\n",
        "    result = 'C';\n",
        "  return result\n",
        "\n",
        "# 「業績ランク」列を作成し、関数「performance」を適用して値設定\n",
        "df['業績ランク'] = df['売上'].apply(lambda x: performance(x, average_sales))\n",
        "\n",
        "# Excelファイルを作成する\n",
        "writer = pd.ExcelWriter('業績.xlsx')\n",
        "\n",
        "# DataFrameオブジェクトをExcelファイルに書き込む\n",
        "df.to_excel(writer, sheet_name='Sheet1', index=False)\n",
        "\n",
        "# Excelファイルを閉じる\n",
        "writer.close()\n",
        "\n",
        "\n",
        "\n",
        "\n"
      ]
    },
    {
      "cell_type": "code",
      "source": [],
      "metadata": {
        "id": "iej15IDVWK_M"
      },
      "execution_count": null,
      "outputs": []
    }
  ]
}