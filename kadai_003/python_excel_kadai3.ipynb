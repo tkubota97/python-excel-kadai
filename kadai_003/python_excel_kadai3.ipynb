{
  "nbformat": 4,
  "nbformat_minor": 0,
  "metadata": {
    "colab": {
      "provenance": []
    },
    "kernelspec": {
      "name": "python3",
      "display_name": "Python 3"
    },
    "language_info": {
      "name": "python"
    }
  },
  "cells": [
    {
      "cell_type": "code",
      "execution_count": null,
      "metadata": {
        "id": "dGB_lQQlKKzr"
      },
      "outputs": [],
      "source": [
        "import openpyxl\n",
        "import pandas as pd\n",
        "from openpyxl.styles import PatternFill\n",
        "\n",
        "# Excelファイルを読み込む\n",
        "df1 = pd.read_excel('2022_年間売上表.xlsx', sheet_name='Sheet1')\n",
        "df2 = pd.read_excel('2023_年間売上表.xlsx', sheet_name='Sheet1')\n",
        "\n",
        "# 縦結合\n",
        "result = pd.concat([df1, df2], axis=0)\n",
        "\n",
        "# 「商品」「売上年」ごとグループ化し、合計金額を計算する\n",
        "result = result.groupby(['商品','売上年']).sum().reset_index()\n",
        "\n",
        "# 新規Excelファイルを作成する\n",
        "writer = pd.ExcelWriter('売上集計表.xlsx')\n",
        "\n",
        "# データを「売上集計表.Excel」ファイルに書き込む\n",
        "result.to_excel(writer, sheet_name='Sheet1', index = False)\n",
        "\n",
        "# Excelファイルを保存する\n",
        "writer.close()\n",
        "\n",
        "# 「売上集計表」を読み込む\n",
        "wb = openpyxl.load_workbook('売上集計表.xlsx')\n",
        "ws = wb.active\n",
        "\n",
        "# 薄いグレー（＃F2F2F2）に設定する\n",
        "fill_color = PatternFill(fill_type='solid', fgColor='F2F2F2')\n",
        "\n",
        "# ヘッダーの範囲設定（A1～C1）\n",
        "for cell in ws['A1:C1']:\n",
        "    for cell in cell:\n",
        "     cell.fill = fill_color\n",
        "\n",
        "# 保存\n",
        "wb.save('売上集計表.xlsx')\n"
      ]
    }
  ]
}